{
  "nbformat": 4,
  "nbformat_minor": 0,
  "metadata": {
    "colab": {
      "name": "polynomialRegression.ipynb",
      "provenance": [],
      "include_colab_link": true
    },
    "kernelspec": {
      "name": "python3",
      "display_name": "Python 3"
    }
  },
  "cells": [
    {
      "cell_type": "markdown",
      "metadata": {
        "id": "view-in-github",
        "colab_type": "text"
      },
      "source": [
        "<a href=\"https://colab.research.google.com/github/trevortomesh/CDC/blob/master/polynomialRegression.ipynb\" target=\"_parent\"><img src=\"https://colab.research.google.com/assets/colab-badge.svg\" alt=\"Open In Colab\"/></a>"
      ]
    },
    {
      "cell_type": "code",
      "metadata": {
        "id": "12MfUGpQl8xG",
        "colab_type": "code",
        "colab": {}
      },
      "source": [
        "import numpy as np\n",
        "from sklearn.linear_model import LinearRegression\n",
        "import matplotlib.pyplot as plt\n",
        "from sklearn.preprocessing import PolynomialFeatures"
      ],
      "execution_count": 0,
      "outputs": []
    },
    {
      "cell_type": "code",
      "metadata": {
        "id": "65MvNmutmqQ4",
        "colab_type": "code",
        "colab": {}
      },
      "source": [
        "x = np.array([5,15,25,35,45,55]).reshape((-1,1))"
      ],
      "execution_count": 0,
      "outputs": []
    },
    {
      "cell_type": "code",
      "metadata": {
        "id": "gJJP70oTnF-8",
        "colab_type": "code",
        "colab": {}
      },
      "source": [
        "y = np.array([5,20,14,32,22,38])"
      ],
      "execution_count": 0,
      "outputs": []
    },
    {
      "cell_type": "code",
      "metadata": {
        "id": "6IgYONyPom8c",
        "colab_type": "code",
        "colab": {}
      },
      "source": [
        "model = LinearRegression().fit(x,y)"
      ],
      "execution_count": 0,
      "outputs": []
    },
    {
      "cell_type": "code",
      "metadata": {
        "id": "764XROgDow0x",
        "colab_type": "code",
        "colab": {}
      },
      "source": [
        ""
      ],
      "execution_count": 0,
      "outputs": []
    },
    {
      "cell_type": "code",
      "metadata": {
        "id": "AS6eBbxko37n",
        "colab_type": "code",
        "colab": {}
      },
      "source": [
        "r_sq = model.score(x,y)"
      ],
      "execution_count": 0,
      "outputs": []
    },
    {
      "cell_type": "code",
      "metadata": {
        "id": "pAftateXo5Nj",
        "colab_type": "code",
        "outputId": "aca18e75-c342-4d8b-8cdf-6341957eed6e",
        "colab": {
          "base_uri": "https://localhost:8080/",
          "height": 35
        }
      },
      "source": [
        "print(r_sq)"
      ],
      "execution_count": 0,
      "outputs": [
        {
          "output_type": "stream",
          "text": [
            "0.7158756137479542\n"
          ],
          "name": "stdout"
        }
      ]
    },
    {
      "cell_type": "code",
      "metadata": {
        "id": "pRpUGvwCo-2p",
        "colab_type": "code",
        "outputId": "c702fdc7-fa0e-4b36-c926-9a468d9c90ac",
        "colab": {
          "base_uri": "https://localhost:8080/",
          "height": 35
        }
      },
      "source": [
        "print(model.intercept_)"
      ],
      "execution_count": 0,
      "outputs": [
        {
          "output_type": "stream",
          "text": [
            "5.633333333333329\n"
          ],
          "name": "stdout"
        }
      ]
    },
    {
      "cell_type": "code",
      "metadata": {
        "id": "S3bPzLUCpIvm",
        "colab_type": "code",
        "outputId": "71b575e6-ed0e-44e2-ab16-610593003e60",
        "colab": {
          "base_uri": "https://localhost:8080/",
          "height": 35
        }
      },
      "source": [
        "print(model.coef_)"
      ],
      "execution_count": 0,
      "outputs": [
        {
          "output_type": "stream",
          "text": [
            "[0.54]\n"
          ],
          "name": "stdout"
        }
      ]
    },
    {
      "cell_type": "code",
      "metadata": {
        "id": "dqGiIlYzpKLE",
        "colab_type": "code",
        "outputId": "65dbcf35-d9ff-412a-f223-356b641338f2",
        "colab": {
          "base_uri": "https://localhost:8080/",
          "height": 265
        }
      },
      "source": [
        "plt.scatter(x,y)\n",
        "plt.plot(x,model.coef_*x+model.intercept_)\n",
        "plt.show()"
      ],
      "execution_count": 0,
      "outputs": [
        {
          "output_type": "display_data",
          "data": {
            "image/png": "[encoded data removed]",
            "text/plain": [
              "<Figure size 432x288 with 1 Axes>"
            ]
          },
          "metadata": {
            "tags": []
          }
        }
      ]
    },
    {
      "cell_type": "code",
      "metadata": {
        "id": "ikIrrvkbphGJ",
        "colab_type": "code",
        "colab": {}
      },
      "source": [
        "y_pred = model.predict(np.array([0,1,2,3,4,5]).reshape(-1,1))"
      ],
      "execution_count": 0,
      "outputs": []
    },
    {
      "cell_type": "code",
      "metadata": {
        "id": "OiGRWhDYqJ0N",
        "colab_type": "code",
        "outputId": "b18400dd-3632-465a-def3-9271a795522a",
        "colab": {
          "base_uri": "https://localhost:8080/",
          "height": 35
        }
      },
      "source": [
        "print(y_pred)"
      ],
      "execution_count": 0,
      "outputs": [
        {
          "output_type": "stream",
          "text": [
            "[5.63333333 6.17333333 6.71333333 7.25333333 7.79333333 8.33333333]\n"
          ],
          "name": "stdout"
        }
      ]
    },
    {
      "cell_type": "code",
      "metadata": {
        "id": "qKuuc338qLNk",
        "colab_type": "code",
        "colab": {}
      },
      "source": [
        "x=np.array([5,15,25,35,45,55]).reshape((-1,1))\n",
        "y=np.array([15,11,2,8,25,32])"
      ],
      "execution_count": 0,
      "outputs": []
    },
    {
      "cell_type": "code",
      "metadata": {
        "id": "eH8rfhGOrzfm",
        "colab_type": "code",
        "outputId": "bdf16c1a-96e1-4b7a-cf19-0ea35e94a992",
        "colab": {
          "base_uri": "https://localhost:8080/",
          "height": 265
        }
      },
      "source": [
        "plt.scatter(x,y)\n",
        "plt.show()"
      ],
      "execution_count": 0,
      "outputs": [
        {
          "output_type": "display_data",
          "data": {
            "image/png": "[encoded data removed]",
            "text/plain": [
              "<Figure size 432x288 with 1 Axes>"
            ]
          },
          "metadata": {
            "tags": []
          }
        }
      ]
    },
    {
      "cell_type": "code",
      "metadata": {
        "id": "w7KLQnxPr4lp",
        "colab_type": "code",
        "colab": {}
      },
      "source": [
        "x_ = PolynomialFeatures(degree=3, include_bias=False).fit_transform(x)"
      ],
      "execution_count": 0,
      "outputs": []
    },
    {
      "cell_type": "code",
      "metadata": {
        "id": "k9G4IM8QsjFP",
        "colab_type": "code",
        "colab": {}
      },
      "source": [
        "model = LinearRegression().fit(x_,y)"
      ],
      "execution_count": 0,
      "outputs": []
    },
    {
      "cell_type": "code",
      "metadata": {
        "id": "NXu3tNwJtH2s",
        "colab_type": "code",
        "colab": {}
      },
      "source": [
        "b0 = model.intercept_"
      ],
      "execution_count": 0,
      "outputs": []
    },
    {
      "cell_type": "code",
      "metadata": {
        "id": "2gejmzKHtM06",
        "colab_type": "code",
        "colab": {}
      },
      "source": [
        "b1 = model.coef_[0]"
      ],
      "execution_count": 0,
      "outputs": []
    },
    {
      "cell_type": "code",
      "metadata": {
        "id": "FMDh0t35tRy6",
        "colab_type": "code",
        "colab": {}
      },
      "source": [
        "b2 = model.coef_[1]"
      ],
      "execution_count": 0,
      "outputs": []
    },
    {
      "cell_type": "code",
      "metadata": {
        "id": "nn5u4jwSC39a",
        "colab_type": "code",
        "colab": {}
      },
      "source": [
        "b3 = model.coef_[2]"
      ],
      "execution_count": 0,
      "outputs": []
    },
    {
      "cell_type": "code",
      "metadata": {
        "id": "KyHaTz-jtavm",
        "colab_type": "code",
        "outputId": "81b9434a-4a9c-4f49-e7e7-adf90ce3aee6",
        "colab": {
          "base_uri": "https://localhost:8080/",
          "height": 35
        }
      },
      "source": [
        "model.score(x_,y)"
      ],
      "execution_count": 0,
      "outputs": [
        {
          "output_type": "execute_result",
          "data": {
            "text/plain": [
              "0.9030890446819649"
            ]
          },
          "metadata": {
            "tags": []
          },
          "execution_count": 129
        }
      ]
    },
    {
      "cell_type": "code",
      "metadata": {
        "id": "aZk2mK3CBMFI",
        "colab_type": "code",
        "outputId": "3c2ee771-181a-468e-9691-421ed4c7eb8b",
        "colab": {
          "base_uri": "https://localhost:8080/",
          "height": 35
        }
      },
      "source": [
        "y.shape"
      ],
      "execution_count": 0,
      "outputs": [
        {
          "output_type": "execute_result",
          "data": {
            "text/plain": [
              "(6,)"
            ]
          },
          "metadata": {
            "tags": []
          },
          "execution_count": 130
        }
      ]
    },
    {
      "cell_type": "code",
      "metadata": {
        "id": "Xu0KHCEKBpCk",
        "colab_type": "code",
        "outputId": "f6cb8847-b9e0-418b-ad04-cdd1195c9644",
        "colab": {
          "base_uri": "https://localhost:8080/",
          "height": 35
        }
      },
      "source": [
        "y"
      ],
      "execution_count": 0,
      "outputs": [
        {
          "output_type": "execute_result",
          "data": {
            "text/plain": [
              "array([15, 11,  2,  8, 25, 32])"
            ]
          },
          "metadata": {
            "tags": []
          },
          "execution_count": 131
        }
      ]
    },
    {
      "cell_type": "code",
      "metadata": {
        "id": "nEUSCp8qBhj_",
        "colab_type": "code",
        "outputId": "d4083f2c-b9bc-4f9a-e509-aba0585f2dc9",
        "colab": {
          "base_uri": "https://localhost:8080/",
          "height": 123
        }
      },
      "source": [
        "x"
      ],
      "execution_count": 0,
      "outputs": [
        {
          "output_type": "execute_result",
          "data": {
            "text/plain": [
              "array([[ 5],\n",
              "       [15],\n",
              "       [25],\n",
              "       [35],\n",
              "       [45],\n",
              "       [55]])"
            ]
          },
          "metadata": {
            "tags": []
          },
          "execution_count": 132
        }
      ]
    },
    {
      "cell_type": "code",
      "metadata": {
        "id": "mlg5zBBBtd6R",
        "colab_type": "code",
        "outputId": "8bee6759-99e4-4d5b-b31d-7ebbf312c1d5",
        "colab": {
          "base_uri": "https://localhost:8080/",
          "height": 265
        }
      },
      "source": [
        "plt.scatter(x,y)\n",
        "xn = np.arange(x.min(),x.max()).reshape(-1,1)\n",
        "plt.plot(xn,b0+(b1*xn)+(b2*xn**2)+(b3*xn**3))\n",
        "plt.show()"
      ],
      "execution_count": 0,
      "outputs": [
        {
          "output_type": "display_data",
          "data": {
            "image/png": "[encoded data removed]",
            "text/plain": [
              "<Figure size 432x288 with 1 Axes>"
            ]
          },
          "metadata": {
            "tags": []
          }
        }
      ]
    },
    {
      "cell_type": "code",
      "metadata": {
        "id": "ypkTQFYOtptT",
        "colab_type": "code",
        "colab": {}
      },
      "source": [
        "#x = -1\n",
        "#print(b0+x*b1+(x**2)*b2)"
      ],
      "execution_count": 0,
      "outputs": []
    },
    {
      "cell_type": "code",
      "metadata": {
        "id": "n6Ksx65GujGw",
        "colab_type": "code",
        "colab": {}
      },
      "source": [
        ""
      ],
      "execution_count": 0,
      "outputs": []
    }
  ]
}