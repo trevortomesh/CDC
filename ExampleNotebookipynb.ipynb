{
  "nbformat": 4,
  "nbformat_minor": 0,
  "metadata": {
    "colab": {
      "name": "ExampleNotebookipynb",
      "provenance": [],
      "collapsed_sections": [],
      "include_colab_link": true
    },
    "kernelspec": {
      "name": "python3",
      "display_name": "Python 3"
    }
  },
  "cells": [
    {
      "cell_type": "markdown",
      "metadata": {
        "id": "view-in-github",
        "colab_type": "text"
      },
      "source": [
        "<a href=\"https://colab.research.google.com/github/trevortomesh/CDC/blob/master/ExampleNotebookipynb.ipynb\" target=\"_parent\"><img src=\"https://colab.research.google.com/assets/colab-badge.svg\" alt=\"Open In Colab\"/></a>"
      ]
    },
    {
      "cell_type": "markdown",
      "metadata": {
        "id": "IomUM9T9N1IW",
        "colab_type": "text"
      },
      "source": [
        "CS 890AC - Data Analysis from the Internet\n",
        "\n",
        "Due: Tuesday 20th August 2019 11:59 PM\n",
        "\n",
        "Instructor: Trevor Tomesh\n",
        "\n",
        "By: NAME REDACTED\n",
        "\n",
        "Student id - REDACTED\n",
        "\n",
        "Email: REDACTED"
      ]
    },
    {
      "cell_type": "markdown",
      "metadata": {
        "id": "Bj1bQixtN3b2",
        "colab_type": "text"
      },
      "source": [
        "## Homework 4\n",
        "\n",
        "## In this exercise, we will build on our analysis from assignment 3 in order to develop a model from our chosen data set."
      ]
    },
    {
      "cell_type": "markdown",
      "metadata": {
        "id": "klGd5eBhzbcZ",
        "colab_type": "text"
      },
      "source": [
        "## Part A - Determining a Proper Model"
      ]
    },
    {
      "cell_type": "markdown",
      "metadata": {
        "id": "ImLMC_9Hznlw",
        "colab_type": "text"
      },
      "source": [
        "<p align = \"justify\">Since I wanted to predict the price (MSRP) of the car given the features. I knew that I will use Regression algorithms, but in Regression, there are many algorithms such as Linear Regression, Random Forest, Lasso, and many more. Moreover with the help of Scikit learn cheatsheet I was able to select the algorithm to implement and the Scikit learn cheat sheet directed me to choose Lasso Regression [1]. \n",
        "\n",
        "\n",
        "<p align = \"justify\">But after implementing the Lasso regression algorithm I got a very less prediction score. The reason for such a low score was that I was only using the Horsepower feature to predict the price of the car, but when we think logically, Horsepower itself will not support in determining the price of the car. So I fed all the features such as Engine Size, Cylinders, Horsepower, MPG_City, Highway, Width, Length, and the wheelbase to the model, after feeding all these features the prediction score was very high. I tried three different algorithms to check for improvements in the score but this time the results of all the three algorithms were very good and improved (there was a significant improvement in Lasso). Hence in this assignment, I will implement and build a model with three different algorithms namely Lasso Regression, Random Forest Regression and Linear Regression. I tried with many other algorithms but most of the algorithms gave me a low score except these three, so I chose these three algorithms.\n"
      ]
    },
    {
      "cell_type": "markdown",
      "metadata": {
        "id": "3EJhdrUZ8znr",
        "colab_type": "text"
      },
      "source": [
        "**Below are the brief explanation of the three different regression algorithms that I would be using to implement my model in this assignment.**"
      ]
    },
    {
      "cell_type": "markdown",
      "metadata": {
        "id": "MeexdgjVzu0R",
        "colab_type": "text"
      },
      "source": [
        "## Lasso Regression\n",
        "\n",
        "<p align = \"justify\">LASSO stands for Least Absolute Shrinkage and Selection Operator. Lasso Regression is a type of Linear Model that is used to estimate sparse coefficients. Lasso regression performs L1 regularization (L1 regularization adds a factor of a sum to the absolute value of coefficients in the optimization objective). Lasso effectively reduces the number of features upon which the given solution is dependent. The implementation of Lasso Regression uses coordinate descent as the algorithm to fit the coefficients. The lasso estimate thus solves the minimization of the least-squares. To summarize, lasso regression is an extended version of Linear Regression which can be used to predict the dependent variables given the independent variables [2].\n",
        "\n",
        "**How to implement Lasso Regression Algorithm ?**\n",
        "\n",
        "<p align = \"justify\">Some of the most common methods of Lasso Regression are fit, predict and score. As the name suggests fit is for fitting the train and tested values, predict is for predicting the values and score determines the accuracy of the algorithm.\n",
        "To use Lasso Regression algorithm we have to import it from the scikit library as:\n",
        "\n",
        "\n",
        "```\n",
        "from sklearn import linear_model\n",
        "linear_model.Lasso(alpha=0.1)\n",
        "```\n",
        "The alpha parameter controls the degree of sparsity of the estimated coefficients and to use lasso regression methods use linear_model.fit or score or  predict. The entire documentation of Lasso Regression can be found on [ scikit learn](https://scikit-learn.org/stable/modules/linear_model.html#lasso).\n",
        "\n",
        "\n",
        "\n",
        "\n",
        "\n",
        "\n",
        "\n",
        "\n"
      ]
    },
    {
      "cell_type": "markdown",
      "metadata": {
        "id": "tyB7aNAFzwPg",
        "colab_type": "text"
      },
      "source": [
        "## Random Forest Regressor\n",
        "Random forest algorithm is a type of Ensamble method, which is specially designed for trees. This is used to create or introduce randomness in the classifier construct and hence the name Random Forest.\n",
        "\n",
        "There are two types of classes in Random Forest:\n",
        "\n",
        "1) Random Forest Classifier\n",
        "\n",
        "2) Random Forest Regressor\n",
        "\n",
        "<p align = \"justify\">In this assignment, I will be using Random Forest Regressor because I don't want to classify rather I want to predict the data. So the random forest classifier is a meta estimator that fits a number of decision trees on various sub-samples of the data set in order to improve the prediction accuracy and control the overfitting line [3] .\n",
        "\n",
        "**How to implement Random Forest Regressor Algorithm ?**\n",
        "\n",
        "<p align = \"justify\">Some of the most common methods of Random Forest Regression are  fit, predict and score. As the name suggests fitting is for fitting the train and tested values, predict is for predicting the values and score determines the accuracy of the model.\n",
        "To use Random Forest Regression algorithm we have to import it from the scikit library as:\n",
        "\n",
        "\n",
        "```\n",
        "from sklearn.ensemble import RandomForestRegressor\n",
        "model = RandomForestRegressor()\n",
        "\n",
        "```\n",
        "To use its methods use RandomForestRegressor().fit or score or  predict. The entire documentation of Random Forest Regression can be found on [ scikit learn](https://scikit-learn.org/stable/modules/generated/sklearn.ensemble.RandomForestClassifier.html).\n",
        "\n",
        "\n",
        "\n"
      ]
    },
    {
      "cell_type": "markdown",
      "metadata": {
        "id": "nlKRAaOLzpbd",
        "colab_type": "text"
      },
      "source": [
        "## Linear Regression\n",
        "<p align = \"justify\">Linear Regression is a statistical model that examines the linear relationship between two variables. Those two variables are dependent and independent variables.\n",
        "Mathematically it can be written as y = mx + c\n",
        "where y = dependent variable, x = independent variable, m = slope, c = constant. Linear Regression can be mainly used in predicting a particular quantity. With the help of linear regression, we can train, test and predict the features of the model. One of the important technique used in Linear Regression is to determine the line of best fit. Best fit line or Regression line is the line for which the error between the predicted values and the observed values is minimum.\n",
        "\n",
        "\n",
        "**How to implement Linear Regression Algorithm?**\n",
        "\n",
        "<p align = \"justify\">Some of the most common methods of Linear Regression are fit, predict and score. As the name suggests fitting is for fitting the train and tested values, predict is for predicting the values and score determines the accuracy of the model.\n",
        "To use Linear Regression algorithm we have to import it from the scikit library as:\n",
        "\n",
        "```\n",
        "from sklearn.linear_model import LinearRegression\n",
        "model = LinearRegression()\n",
        "```\n",
        "and to use its methods use LinearRegresssion.fit or score or  predict. The entire documentation of Linear  Regression can be found on [ scikit learn](https://scikit-learn.org/stable/modules/generated/sklearn.linear_model.LinearRegression.html).\n",
        "\n",
        "\n",
        "---\n",
        "\n",
        "\n",
        " \n"
      ]
    },
    {
      "cell_type": "markdown",
      "metadata": {
        "id": "Gwg6uE-ZMhl0",
        "colab_type": "text"
      },
      "source": [
        "## Part B  Applying the Algorithms"
      ]
    },
    {
      "cell_type": "markdown",
      "metadata": {
        "id": "kGpzo-PsMjlk",
        "colab_type": "text"
      },
      "source": [
        "### Implementing the algorithms\n",
        "\n",
        "<p align = \"justify\">In this assignment, I am implementing three different Machine Learning Algorithms, this is because every algorithm has a better prediction score and accuracy. \n",
        "<p align = \"justify\">The first step involved in implementing the above algorithms is determining the dependent and independent variables. At this stage, I knew that the dependent variable is the price or MSRP and the independent variables are all variables excluding MSRP in my data set. The reason for this is I could see a pattern in my dataset. For example, if the engine size of the car was high then the price of the car was high and the same refers to Horsepower, Cylinders, Length, Wheelbase and many more. Because of this pattern, I predicted the price (MSRP) against all the features of the car.\n",
        "\n",
        "**Implementing Lasso Regression**\n",
        "\n",
        "<p align = \"justify\">Let us import all the libraries at once in order to implement different algorithms.\n"
      ]
    },
    {
      "cell_type": "code",
      "metadata": {
        "id": "m-Rg09E3O1rV",
        "colab_type": "code",
        "colab": {}
      },
      "source": [
        "# Importing all the required libraries\n",
        "from sklearn import linear_model\n",
        "from sklearn.model_selection import train_test_split\n",
        "from sklearn.linear_model import LinearRegression\n",
        "from sklearn.ensemble import RandomForestRegressor\n",
        "from sklearn.metrics import mean_absolute_error\n",
        "from sklearn.metrics import mean_squared_error\n",
        "from sklearn.metrics import r2_score"
      ],
      "execution_count": 0,
      "outputs": []
    },
    {
      "cell_type": "code",
      "metadata": {
        "id": "zgG5dFaIL6Xo",
        "colab_type": "code",
        "colab": {}
      },
      "source": [
        "# Creating the Lasso Regression Model\n",
        "\n",
        "reg = linear_model.Lasso(alpha=0.1)"
      ],
      "execution_count": 0,
      "outputs": []
    },
    {
      "cell_type": "markdown",
      "metadata": {
        "id": "EH6egRRgM65p",
        "colab_type": "text"
      },
      "source": [
        "**Preparing the data in a order that is supported by the algorithms**\n",
        "\n",
        "<p align = \"justify\">Here the data needs to be prepared in a particular order because wrong mismatch order of data can cause an error. The ‘X’ variable contains all the features except the MSRP and it of 2 dimensions. Similarly, the ‘y’ variable contains only MSRP values and its of 1 dimension. I have converted the data frames into a numpy array. Because it was initially giving me an error, then I came to know that most of the SciKit algorithms accept the input as an array. So I converted both the ‘X’ and the ‘y’ values to a numpy array. We can check the dimensions using ndim method. If the ‘y’ value is a two-dimension array then it cannot be fitted in the model because of the wrong order in the data frames. This is one of the most important steps that must be done before feeding the values to the model.\n"
      ]
    },
    {
      "cell_type": "code",
      "metadata": {
        "id": "YflV5i1lMy5U",
        "colab_type": "code",
        "colab": {}
      },
      "source": [
        "X = df.drop('MSRP', axis=1)\n",
        "y = df['MSRP']"
      ],
      "execution_count": 0,
      "outputs": []
    },
    {
      "cell_type": "code",
      "metadata": {
        "id": "sQJY37fUp4YH",
        "colab_type": "code",
        "outputId": "f6c850ae-1d88-4904-dd74-f39c76cc0fb1",
        "colab": {
          "base_uri": "https://localhost:8080/",
          "height": 35
        }
      },
      "source": [
        "X = X.to_numpy()\n",
        "X.ndim"
      ],
      "execution_count": 0,
      "outputs": [
        {
          "output_type": "execute_result",
          "data": {
            "text/plain": [
              "2"
            ]
          },
          "metadata": {
            "tags": []
          },
          "execution_count": 50
        }
      ]
    },
    {
      "cell_type": "code",
      "metadata": {
        "id": "jV8pcXlLp_Da",
        "colab_type": "code",
        "outputId": "c495660d-43be-412a-ca9c-734abe56781e",
        "colab": {
          "base_uri": "https://localhost:8080/",
          "height": 35
        }
      },
      "source": [
        "y = y.to_numpy()\n",
        "y.ndim"
      ],
      "execution_count": 0,
      "outputs": [
        {
          "output_type": "execute_result",
          "data": {
            "text/plain": [
              "1"
            ]
          },
          "metadata": {
            "tags": []
          },
          "execution_count": 51
        }
      ]
    },
    {
      "cell_type": "markdown",
      "metadata": {
        "id": "p_jQ9ZM0NZtu",
        "colab_type": "text"
      },
      "source": [
        "**Process involved in creating and implementing the models.**\n",
        "\n",
        "\n",
        "**During Implementation of  the modesl I will be dividing the data into two parts:**\n",
        "\n",
        "```\n",
        "1) Train data: Training data is the one wherein we train and fit the data to the algorithm.\n",
        "\n",
        "2) Test data : Testing data is the one wherein we test that data based on the trained data and check the performance of the model\n",
        "```\n",
        "Splitting the data helps our model to predict more accurately because the model would be trained and tested with multiple data. Here the train and testing data is divided as 70 and 30. \n"
      ]
    },
    {
      "cell_type": "code",
      "metadata": {
        "id": "doGUpaXJp3ay",
        "colab_type": "code",
        "colab": {}
      },
      "source": [
        "X_train, X_test, y_train, y_test = train_test_split(X, y, test_size=0.3, random_state=42)"
      ],
      "execution_count": 0,
      "outputs": []
    },
    {
      "cell_type": "markdown",
      "metadata": {
        "id": "A0eyeubRN5Qp",
        "colab_type": "text"
      },
      "source": [
        "Dividing the dataset into training and testing with a random state of 42 (default), and declare the test data size as 30 (0.3). Then feeding the training and the testing data into the model and then predicting the price by giving the testing values as input to the model."
      ]
    },
    {
      "cell_type": "code",
      "metadata": {
        "id": "Um4br23fM1F8",
        "colab_type": "code",
        "colab": {}
      },
      "source": [
        "# Fitting and predicting the trained values to the Lassor Regression Model\n",
        "reg.fit(X_train, y_train)\n",
        "pred = reg.predict(X_test)"
      ],
      "execution_count": 0,
      "outputs": []
    },
    {
      "cell_type": "code",
      "metadata": {
        "id": "leuGsfGqsvkz",
        "colab_type": "code",
        "outputId": "a08f6b76-2424-44a3-de7b-a6776bdff39b",
        "colab": {
          "base_uri": "https://localhost:8080/",
          "height": 35
        }
      },
      "source": [
        "# Printing the first five predicted values\n",
        "pred[1:5]"
      ],
      "execution_count": 0,
      "outputs": [
        {
          "output_type": "execute_result",
          "data": {
            "text/plain": [
              "array([23154.92506572, 26922.43372457, 28026.68615722, 23815.783387  ])"
            ]
          },
          "metadata": {
            "tags": []
          },
          "execution_count": 54
        }
      ]
    },
    {
      "cell_type": "markdown",
      "metadata": {
        "id": "AcxKMmzMOiX-",
        "colab_type": "text"
      },
      "source": [
        "\n",
        "\n",
        "---\n",
        "\n"
      ]
    },
    {
      "cell_type": "markdown",
      "metadata": {
        "id": "CybnWYYLPRJ-",
        "colab_type": "text"
      },
      "source": [
        "**Implementing and building Random Forest Regression model**\n",
        "\n",
        "<p align = \"justify\">The process for this algorithm remains the same only the methods are different apart from that the parameters are the same. Here in Random Forest Regression first we have to create a model called Random Forest Regressor() and then fit the model by passing both x and y trained data and then finally predict the price by feeding the 'X' testing data."
      ]
    },
    {
      "cell_type": "code",
      "metadata": {
        "id": "jG_KTfW8PUyf",
        "colab_type": "code",
        "outputId": "cddbd288-5403-46d2-9dd3-c6ac53e7cc7d",
        "colab": {
          "base_uri": "https://localhost:8080/",
          "height": 72
        }
      },
      "source": [
        "# Creating the Random Forest Regressor Model\n",
        "\n",
        "model = RandomForestRegressor()\n",
        "model.fit(X_train, y_train)\n",
        "\n",
        "pred = model.predict(X_test)"
      ],
      "execution_count": 0,
      "outputs": [
        {
          "output_type": "stream",
          "text": [
            "/usr/local/lib/python3.6/dist-packages/sklearn/ensemble/forest.py:245: FutureWarning: The default value of n_estimators will change from 10 in version 0.20 to 100 in 0.22.\n",
            "  \"10 in version 0.20 to 100 in 0.22.\", FutureWarning)\n"
          ],
          "name": "stderr"
        }
      ]
    },
    {
      "cell_type": "markdown",
      "metadata": {
        "id": "-aAWv_HoMvpO",
        "colab_type": "text"
      },
      "source": [
        "**Implementing  and building Linear Regresion model**"
      ]
    },
    {
      "cell_type": "markdown",
      "metadata": {
        "id": "Vkia2iRhPXvd",
        "colab_type": "text"
      },
      "source": [
        "<p align = \"justify\">The process for Linear Regression algorithm remains the same only the methods are different apart from that the parameters are the same. Here in Linear Regression first we have to create a model called Linear Regression() and then fit the model by passing both x and y trained data and then finally predict the price by feeding the 'X' testing data."
      ]
    },
    {
      "cell_type": "code",
      "metadata": {
        "id": "JokRLeFNOuqF",
        "colab_type": "code",
        "colab": {}
      },
      "source": [
        "# Creating the Linear Regression Model\n",
        "\n",
        "model = LinearRegression()\n",
        "model.fit(X_train, y_train)\n",
        "\n",
        "pred = model.predict(X_test)"
      ],
      "execution_count": 0,
      "outputs": []
    },
    {
      "cell_type": "markdown",
      "metadata": {
        "id": "8T-1jXXyNijU",
        "colab_type": "text"
      },
      "source": [
        "\n",
        "\n",
        "---\n",
        "\n"
      ]
    },
    {
      "cell_type": "markdown",
      "metadata": {
        "id": "H1Ky3RyhOz-d",
        "colab_type": "text"
      },
      "source": [
        "## Part C - Visualizing and Explaining the model"
      ]
    },
    {
      "cell_type": "markdown",
      "metadata": {
        "id": "DNtsLLR5O4h2",
        "colab_type": "text"
      },
      "source": [
        "<p align = \"justify\">In the case of plotting the regression, I use the seaborn library to plot the graph. I will plot a scatter plot along with the trend line between the old MSRP and the new predicted MSRP feature. \n",
        "\n",
        "<p align = \"justify\">As seen in the below graph you can see a Regression line denoted by medium blue-green color. We call this the line of best fit. Regression comprises finding the best-fitting straight line through the points. The medium blue-green color diagonal line in below figure is the regression line and comprises the predicted score on y for each value of X. We base the Regression Line on the best fitting curve whose equation is y = mX+c. Also, the Regression line is a statistics concept which shows the dependent variables based on variation in independent variables for a set of data points.\n",
        "\n",
        "<p align = \"justify\">The plot is between the old MSRP of the car and the predicted new MSRP of the car. Here the important thing to understand is that it bases the new Predicted prices on the features of the car that are fed as training data."
      ]
    },
    {
      "cell_type": "markdown",
      "metadata": {
        "id": "H4L6fDBaWqeV",
        "colab_type": "text"
      },
      "source": [
        "**Plotting Lasso Regression**"
      ]
    },
    {
      "cell_type": "code",
      "metadata": {
        "id": "7SXgUlXzO7lo",
        "colab_type": "code",
        "outputId": "3371d9ef-b997-461a-8e40-4011699e6bc2",
        "colab": {
          "base_uri": "https://localhost:8080/",
          "height": 411
        }
      },
      "source": [
        "plt.figure(figsize= (6, 6))\n",
        "plt.title('Visualizing the Regression using Lasso Regression algorithm')\n",
        "\n",
        "sns.regplot(pred, y_test, color = 'teal')\n",
        "plt.xlabel(\"New Predicted Price (MSRP)\")\n",
        "\n",
        "plt.ylabel(\"Old Price (MSRP)\")\n",
        "plt.show()"
      ],
      "execution_count": 0,
      "outputs": [
        {
          "output_type": "display_data",
          "data": {
            "image/png": "[encoded data removed]",
            "text/plain": [
              "<Figure size 432x432 with 1 Axes>"
            ]
          },
          "metadata": {
            "tags": []
          }
        }
      ]
    },
    {
      "cell_type": "markdown",
      "metadata": {
        "id": "boKgORopWtZl",
        "colab_type": "text"
      },
      "source": [
        "**Plotting Random Forest Regression**"
      ]
    },
    {
      "cell_type": "code",
      "metadata": {
        "id": "sjqX3JxkWw99",
        "colab_type": "code",
        "outputId": "7496e1b0-3dea-4823-bc1e-7b6a4ba4357e",
        "colab": {
          "base_uri": "https://localhost:8080/",
          "height": 411
        }
      },
      "source": [
        "plt.figure(figsize= (6, 6))\n",
        "plt.title('Visualizing the Regression using Random Forest Regression algorithm')\n",
        "\n",
        "sns.regplot(pred, y_test, color = 'teal')\n",
        "plt.xlabel(\"New Predicted Price (MSRP)\")\n",
        "\n",
        "plt.ylabel(\"Old Price (MSRP)\")\n",
        "plt.show()"
      ],
      "execution_count": 0,
      "outputs": [
        {
          "output_type": "display_data",
          "data": {
            "image/png": "[encoded data removed]",
            "text/plain": [
              "<Figure size 432x432 with 1 Axes>"
            ]
          },
          "metadata": {
            "tags": []
          }
        }
      ]
    },
    {
      "cell_type": "markdown",
      "metadata": {
        "id": "z3_I7dGkXBkS",
        "colab_type": "text"
      },
      "source": [
        "**Plotting Linear Regression**"
      ]
    },
    {
      "cell_type": "code",
      "metadata": {
        "id": "5eKiKKJwXE8s",
        "colab_type": "code",
        "outputId": "2fd36207-84ff-49f6-f33c-3b06525368d8",
        "colab": {
          "base_uri": "https://localhost:8080/",
          "height": 411
        }
      },
      "source": [
        "plt.figure(figsize= (6, 6))\n",
        "plt.title('Visualizing the Regression Linear Regression Algorithm')\n",
        "\n",
        "sns.regplot(pred, y_test, color = 'teal')\n",
        "plt.xlabel(\"New Predicted Price (MSRP)\")\n",
        "\n",
        "plt.ylabel(\"Old Price (MSRP)\")\n",
        "plt.show()"
      ],
      "execution_count": 0,
      "outputs": [
        {
          "output_type": "display_data",
          "data": {
            "image/png": "[encoded data removed]",
            "text/plain": [
              "<Figure size 432x432 with 1 Axes>"
            ]
          },
          "metadata": {
            "tags": []
          }
        }
      ]
    },
    {
      "cell_type": "markdown",
      "metadata": {
        "id": "8L9KDp69VnBk",
        "colab_type": "text"
      },
      "source": [
        "\n",
        "\n",
        "---\n",
        "\n"
      ]
    },
    {
      "cell_type": "markdown",
      "metadata": {
        "id": "tvhzuconSXkl",
        "colab_type": "text"
      },
      "source": [
        "**Providing stastical imformation that supports the model.**\n",
        "\n",
        "<p align = \"justify\">This step involves printing the results such as the Mean Absolute Error, Mean Squared Error Coefficient, Intercept and the r2_score. Out of these three, the r2_score is the important metric. It determines the accuracy or the score of the model. I have also included the score of the other algorithms such as Linear Regression, Random Forest.\n",
        "\n",
        "**Lasso Regression**\n"
      ]
    },
    {
      "cell_type": "code",
      "metadata": {
        "id": "gW5QW-05NbJj",
        "colab_type": "code",
        "outputId": "11cf6132-0f5e-4a0b-dc40-2017c809d6d2",
        "colab": {
          "base_uri": "https://localhost:8080/",
          "height": 191
        }
      },
      "source": [
        "print(\"Mean Absolute Error is :\", mean_absolute_error(y_test, pred))\n",
        "print(\"----------------------------------------------\")\n",
        "print(\"Mean Squared Error is :\", mean_squared_error(y_test, pred))\n",
        "print(\"----------------------------------------------\")\n",
        "\n",
        "print(\"Coeffients are : \", reg.coef_)\n",
        "print(\"----------------------------------------------\")\n",
        "\n",
        "print(\"Intercepts are :\" ,reg.intercept_)\n",
        "print(\"----------------------------------------------\")\n",
        "\n",
        "print(\"The R2 square value of Lasso is :\", r2_score(y_test, pred)*100)"
      ],
      "execution_count": 0,
      "outputs": [
        {
          "output_type": "stream",
          "text": [
            "Mean Absolute Error is : 3936.1382521225546\n",
            "----------------------------------------------\n",
            "Mean Squared Error is : 29882601.6636059\n",
            "----------------------------------------------\n",
            "Coeffients are :  [-4.69372017e+03  1.93076834e+03  2.59521812e+02  7.06614621e-01\n",
            "  6.61243247e+02  8.44113525e+00 -8.86220500e+02  1.18332219e+02]\n",
            "----------------------------------------------\n",
            "Intercepts are : 6387.719034055277\n",
            "----------------------------------------------\n",
            "The R2 square value of Lasso is : 90.9533968305814\n"
          ],
          "name": "stdout"
        }
      ]
    },
    {
      "cell_type": "markdown",
      "metadata": {
        "id": "yUlwI4kvBlSR",
        "colab_type": "text"
      },
      "source": [
        "The prediction score of Lasso Regression is around 90.9% which is a good score and high among the other three algorithms."
      ]
    },
    {
      "cell_type": "markdown",
      "metadata": {
        "id": "SB1m1SzmV75X",
        "colab_type": "text"
      },
      "source": [
        "\n",
        "\n",
        "---\n",
        "\n"
      ]
    },
    {
      "cell_type": "markdown",
      "metadata": {
        "id": "yKCb_BBaQNyZ",
        "colab_type": "text"
      },
      "source": [
        "**Random Forest Regressor**"
      ]
    },
    {
      "cell_type": "code",
      "metadata": {
        "id": "eQ-eyuvpNusi",
        "colab_type": "code",
        "outputId": "373a58e4-55f0-47b1-afce-f4e5de1f2499",
        "colab": {
          "base_uri": "https://localhost:8080/",
          "height": 176
        }
      },
      "source": [
        "model = RandomForestRegressor()\n",
        "model.fit(X_train, y_train)\n",
        "\n",
        "pred = model.predict(X_test)\n",
        "\n",
        "print(\"Mean Absolute Error is :\", mean_absolute_error(y_test, pred))\n",
        "print(\"----------------------------------------------\")\n",
        "print(\"Mean Squared Error is :\", mean_squared_error(y_test, pred))\n",
        "print(\"----------------------------------------------\")\n",
        "\n",
        "print(\"The R2 square value of RandomForest Regressor is :\", r2_score(y_test, pred)*100)\n",
        "print(\"----------------------------------------------\")\n"
      ],
      "execution_count": 0,
      "outputs": [
        {
          "output_type": "stream",
          "text": [
            "Mean Absolute Error is : 4182.749935400517\n",
            "----------------------------------------------\n",
            "Mean Squared Error is : 35668806.273231596\n",
            "----------------------------------------------\n",
            "The R2 square value of RandomForest Regressor is : 89.2016920242326\n",
            "----------------------------------------------\n"
          ],
          "name": "stdout"
        },
        {
          "output_type": "stream",
          "text": [
            "/usr/local/lib/python3.6/dist-packages/sklearn/ensemble/forest.py:245: FutureWarning: The default value of n_estimators will change from 10 in version 0.20 to 100 in 0.22.\n",
            "  \"10 in version 0.20 to 100 in 0.22.\", FutureWarning)\n"
          ],
          "name": "stderr"
        }
      ]
    },
    {
      "cell_type": "markdown",
      "metadata": {
        "id": "SXmvCm4KBvUG",
        "colab_type": "text"
      },
      "source": [
        "The prediction score of Random Forest Regression is around 89.2% which is also a good score."
      ]
    },
    {
      "cell_type": "markdown",
      "metadata": {
        "id": "2nnMvVzWWBm6",
        "colab_type": "text"
      },
      "source": [
        "\n",
        "\n",
        "---\n",
        "\n"
      ]
    },
    {
      "cell_type": "markdown",
      "metadata": {
        "id": "KtC3_3bgQXaW",
        "colab_type": "text"
      },
      "source": [
        "**Linear Regression**"
      ]
    },
    {
      "cell_type": "code",
      "metadata": {
        "id": "hMLL9ZMMQQia",
        "colab_type": "code",
        "outputId": "589dc94f-4280-4f4f-be1d-cf48834cce0a",
        "colab": {
          "base_uri": "https://localhost:8080/",
          "height": 191
        }
      },
      "source": [
        "model= linear_model.LinearRegression()\n",
        "model.fit(X_train, y_train)\n",
        "\n",
        "pred = model.predict(X_test)\n",
        "\n",
        "print(\"Mean Absolute Error is :\", mean_absolute_error(y_test, pred))\n",
        "print(\"----------------------------------------------\")\n",
        "print(\"Mean Squared Error is :\", mean_squared_error(y_test, pred))\n",
        "print(\"----------------------------------------------\")\n",
        "\n",
        "print(\"Coeffients are : \", model.coef_)\n",
        "print(\"----------------------------------------------\")\n",
        "\n",
        "print(\"Intercepts are :\" ,model.intercept_)\n",
        "print(\"----------------------------------------------\")\n",
        "\n",
        "print(\"The R2 square value of Linear Regression is :\", r2_score(y_test, pred)*100)"
      ],
      "execution_count": 0,
      "outputs": [
        {
          "output_type": "stream",
          "text": [
            "Mean Absolute Error is : 6417.27731393084\n",
            "----------------------------------------------\n",
            "Mean Squared Error is : 77426347.51245357\n",
            "----------------------------------------------\n",
            "Coeffients are :  [-4.69458004e+03  1.93124437e+03  2.59522921e+02  7.33312352e-01\n",
            "  6.61229438e+02  8.44139490e+00 -8.86239414e+02  1.18347263e+02]\n",
            "----------------------------------------------\n",
            "Intercepts are : 6385.616522878925\n",
            "----------------------------------------------\n",
            "The R2 square value of Linear Regression is : 76.56009176551237\n"
          ],
          "name": "stdout"
        }
      ]
    },
    {
      "cell_type": "markdown",
      "metadata": {
        "id": "9gOuMeRHB0oO",
        "colab_type": "text"
      },
      "source": [
        "The prediction score of Linear  Regression is around 76.56% which is rather low than the others. But sometimes it gave a score of 80% but sometimes 78%."
      ]
    },
    {
      "cell_type": "markdown",
      "metadata": {
        "id": "qmzHT2OyTCLH",
        "colab_type": "text"
      },
      "source": [
        "\n",
        "\n",
        "---\n",
        "\n"
      ]
    },
    {
      "cell_type": "markdown",
      "metadata": {
        "id": "fum9cdYp1uEI",
        "colab_type": "text"
      },
      "source": [
        "## Results\n",
        "\n",
        "As seen from the above implementation all the models have a good prediction score except linear regression model. Summarizing the results of the models as: \n",
        "\n",
        "*   Lasso Regression   --->  90.9 %\n",
        "*   Random Forest Regressor  --->   89.2%\n",
        "*   Linear Regression    ---> 76.56%\n",
        "\n",
        "<p align = \"justify\">From the above results the Lasso Regression has the highest score of around 91% so I think Lasso regression algorithm is the best model in my case. Hence I will strongly depend on the results of Lasso Regression model.\n",
        "\n",
        "\n",
        "---\n",
        "\n",
        "\n",
        "\n"
      ]
    },
    {
      "cell_type": "markdown",
      "metadata": {
        "id": "LjVrivp8TEAn",
        "colab_type": "text"
      },
      "source": [
        "## Part D - Discussion"
      ]
    },
    {
      "cell_type": "markdown",
      "metadata": {
        "id": "dkRfPxrhTFPG",
        "colab_type": "text"
      },
      "source": [
        "\n",
        "**Now that I have established a model, I will consider the implications of the model. Does the model have the power to predict the outcome of future instances? What does it prove?**\n",
        "\n",
        "\n",
        "<p align = \"justify\">These models have the power to predict the outcome of future instances. The models predict the price (MSRP) of the car given the specifications or other features of the car. It performs very well because I have trained and tested the model by providing more samples, because of which the model overall gives a score of 90% (Lasso Regression), 89% (Random Forest Regression), and 76.7% (Linear Regression). Hence I choose Lasso Regressiom among these three because of its high score. This model is very reliable and efficient for predicting the data. This is the reason I implemented different models and algorithms to get a better score. With the accuracy score of 90% I think that my model has the power to predict the outcome of future instances. Hence I can prove that my models can predict the prices of cars accurately."
      ]
    },
    {
      "cell_type": "markdown",
      "metadata": {
        "id": "TIH2PaybW0yY",
        "colab_type": "text"
      },
      "source": [
        "**Creating a fictional instance to analyze and seeing that how well does the model describes the outcome?**\n",
        "\n",
        "<p align = \"justify\">Let us create a fictional instance to analyze how well does the model describe the outcome. I have prepared a new data set called CARS2 which comprises 30 new values different from the old data set. Let us feed the specifications to the model. I will use the Lasso Regression algorithm in this case (because of the three it has a good prediction score). After executing, shown below are the set of predicted values that the model has predicted. "
      ]
    },
    {
      "cell_type": "code",
      "metadata": {
        "id": "35PwfPW1dXoV",
        "colab_type": "code",
        "colab": {}
      },
      "source": [
        "# Loading the CSV file into a pandas dataframe.\n",
        "df1 = pd.read_csv(\"CARS2.csv\")"
      ],
      "execution_count": 0,
      "outputs": []
    },
    {
      "cell_type": "code",
      "metadata": {
        "id": "5FVgd0RUdb9J",
        "colab_type": "code",
        "colab": {}
      },
      "source": [
        "X = df1.drop('MSRP', axis=1)\n",
        "y = df1['MSRP']"
      ],
      "execution_count": 0,
      "outputs": []
    },
    {
      "cell_type": "code",
      "metadata": {
        "id": "1H-dfPKRdmTm",
        "colab_type": "code",
        "outputId": "72a11e62-80bc-4366-c24a-8c4fd2960e98",
        "colab": {
          "base_uri": "https://localhost:8080/",
          "height": 87
        }
      },
      "source": [
        "reg.fit(X, y)\n",
        "pred = reg.predict(X)\n",
        "pred.round()"
      ],
      "execution_count": 0,
      "outputs": [
        {
          "output_type": "execute_result",
          "data": {
            "text/plain": [
              "array([39483., 25272., 26650., 41340., 47564., 84852., 46207., 19677.,\n",
              "       66756., 53653., 31835., 56098., 71426., 51931., 10842., 24327.,\n",
              "       40137., 26953., 28293., 21084., 20432., 20588., 26741., 26416.,\n",
              "       19414., 25744., 39221., 39707.])"
            ]
          },
          "metadata": {
            "tags": []
          },
          "execution_count": 69
        }
      ]
    },
    {
      "cell_type": "code",
      "metadata": {
        "id": "go04b7EldxEj",
        "colab_type": "code",
        "outputId": "519010f2-48d2-442d-ccdc-c6f9a10b5472",
        "colab": {
          "base_uri": "https://localhost:8080/",
          "height": 191
        }
      },
      "source": [
        "print(\"Mean Absolute Error is :\", mean_absolute_error(y, pred))\n",
        "print(\"----------------------------------------------\")\n",
        "print(\"Mean Squared Error is :\", mean_squared_error(y, pred))\n",
        "print(\"----------------------------------------------\")\n",
        "\n",
        "print(\"Coeffients are : \", reg.coef_)\n",
        "print(\"----------------------------------------------\")\n",
        "\n",
        "print(\"Intercepts are :\" ,reg.intercept_)\n",
        "print(\"----------------------------------------------\")\n",
        "\n",
        "print(\"The R2 square value of Lasso is :\", r2_score(y, pred)*100)"
      ],
      "execution_count": 0,
      "outputs": [
        {
          "output_type": "stream",
          "text": [
            "Mean Absolute Error is : 5506.860103490776\n",
            "----------------------------------------------\n",
            "Mean Squared Error is : 42466457.40200808\n",
            "----------------------------------------------\n",
            "Coeffients are :  [ 1.53079973e+04  2.59269626e+03 -1.67413931e+01 -7.01905473e+02\n",
            "  4.34288624e+02 -6.12363292e+00  1.35326844e+02 -2.77586521e+02]\n",
            "----------------------------------------------\n",
            "Intercepts are : 42104.421321013026\n",
            "----------------------------------------------\n",
            "The R2 square value of Lasso is : 87.74300951738063\n"
          ],
          "name": "stdout"
        }
      ]
    },
    {
      "cell_type": "markdown",
      "metadata": {
        "id": "GM0kMue-k93A",
        "colab_type": "text"
      },
      "source": [
        "<p align = \"justify\">Here the ‘y’ represents the set of new MSRP values and the pred represents the newly predicted values according to the features provided above. We can see it the most of the values in the pred are close to the y values but one or two values are high but that’s ok. Now when I calculated the score of the model as seen above I got a score of 87.74% which is good. I can prove that even though creating an instance of the dataset my model is 87% accurate. Hence the model describes the outcome for an instance in a very good way."
      ]
    },
    {
      "cell_type": "markdown",
      "metadata": {
        "id": "RApKc1Yvmb1Z",
        "colab_type": "text"
      },
      "source": [
        "**Reflect on the potential accuracy of the model both in interpolation and extrapolation.\n",
        "Do you see any potential limitations?**\n",
        "\n",
        "<p align = \"justify\">The limitation of Regression is that we can only extrapolate out so far before the model might not hold because the model once again is not reality it is a mathematical approximation of reality and so at the extrema, if you go to the extreme we might find that it can hold up at a certain point and then it fails."
      ]
    },
    {
      "cell_type": "markdown",
      "metadata": {
        "id": "OJHeMQct4f-y",
        "colab_type": "text"
      },
      "source": [
        "\n",
        "\n",
        "---\n",
        "\n"
      ]
    },
    {
      "cell_type": "markdown",
      "metadata": {
        "id": "_9YU7aMtnHqo",
        "colab_type": "text"
      },
      "source": [
        "## Part E - Summary\n"
      ]
    },
    {
      "cell_type": "markdown",
      "metadata": {
        "id": "QaTGfw_wnJ_2",
        "colab_type": "text"
      },
      "source": [
        " **Summarizing the notebook such as the goal and my results**\n",
        "\n",
        "\n",
        "<p align = \"justify\">I have implemented a machine learning model on the cars data set. This model predicts the price of the car given the specifications of the car. Initially, I have implemented three different Regression Algorithms namely Lasso, Random Forest, and Linear Regression out of these the Lasso Regression gave good results compared to the other two. \n",
        "\n",
        "<p align = \"justify\">The goal was to predict the price of the car given the specifications of the car like Horsepower, Engine Size, Cylinders, and many more. So initially I processed the data and made it ready for building a model. Later I implemented a machine learning model, and the results were amazing. Firstly, the Lasso Regression gave a score of 91%, Random Forest Regression gave a prediction score of 89%, and Linear Regression gave a score of 76%. With these, I can tell that my models are good to predict the price of the car. I also checked for different instances by giving random specifications to the model, but in the end, my models gave good price predictions.\n"
      ]
    },
    {
      "cell_type": "markdown",
      "metadata": {
        "id": "PPPL163a1udY",
        "colab_type": "text"
      },
      "source": [
        "**Reflecting on what sort other analysis would have been better for this data.**\n",
        "\n",
        "<p align = \"justify\">Since the dataset contained only 425 rows, this was the main reason that my model gave a prediction acore of 91% because the more data the more the model can be trained and tested. Also, I could have used to stacking which is an ensembling method of increasing the prediction score. Also, some of the values of the data made no sense because they were not relating with each other, I think the author of this data set just manually entered some values doing no research, and I could see that when I was peeking at the data set. \n",
        " \n",
        "<p align = \"justify\">Initially, I had some categorical data (object data) but I could do nothing with it so I removed them, but now I think I could have used the classification algorithms to classify different car brand and models and then applied the regression on it then I think my model would have resulted in a higher prediction score. "
      ]
    },
    {
      "cell_type": "markdown",
      "metadata": {
        "id": "SzBf-gok3Aim",
        "colab_type": "text"
      },
      "source": [
        "**Finally, writing about what sort of new knowledge that I was able to create in my analysis**\n",
        "\n",
        "<p align = \"justify\">Previously I was not knowing a single machine learning algorithm at depth but after I started doing this assignment, I came to know how to build a model with different machine learning algorithms like Linear Regression, Random Forest and many more. I was successful in finding new relationships between certain features, in this case, the price and the specifications of the car which was one of the cool things to me. During my childhood days, I was just guessing the price of the car by seeing the specs but now with this model; I have a good proof for the price prediction. I can sell my model to people who are interested in buying it and who want to predict the price of the car before buying it. This was a new knowledge where I could create from my analysis. \n"
      ]
    },
    {
      "cell_type": "markdown",
      "metadata": {
        "id": "d-XsBc8xIkof",
        "colab_type": "text"
      },
      "source": [
        "\n",
        "\n",
        "---\n",
        "\n"
      ]
    },
    {
      "cell_type": "markdown",
      "metadata": {
        "id": "Nms93PYaK4d4",
        "colab_type": "text"
      },
      "source": [
        "## References\n",
        "\n",
        "[1] Scikit-learn.org. (n.d.). Choosing the right estimator — scikit-learn 0.21.3 documentation. [online] Available at: https://scikit-learn.org/stable/tutorial/machine_learning_map/index.html [Accessed 16 Aug. 2019].\n",
        "\n",
        "[2] Scikit-learn.org. (n.d.). 1.1. Generalized Linear Models — scikit-learn 0.21.3 documentation. [online] Available at: https://scikit-learn.org/stable/modules/linear_model.html#lasso [Accessed 16 Aug. 2019].\n",
        "\n",
        "[3] Scikit-learn.org. (n.d.). 3.2.4.3.1. sklearn.ensemble.RandomForestClassifier — scikit-learn 0.21.3 documentation. [online] Available at: https://scikit-learn.org/stable/modules/generated/sklearn.ensemble.RandomForestClassifier.html [Accessed 16 Aug. 2019]."
      ]
    }
  ]
}